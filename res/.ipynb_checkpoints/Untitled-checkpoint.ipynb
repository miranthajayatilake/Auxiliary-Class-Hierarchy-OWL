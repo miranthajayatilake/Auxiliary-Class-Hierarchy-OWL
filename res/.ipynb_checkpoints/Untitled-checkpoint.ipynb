{
 "cells": [
  {
   "cell_type": "code",
   "execution_count": 1,
   "metadata": {},
   "outputs": [],
   "source": [
    "import xml.etree.ElementTree as ET\n",
    "tree = ET.parse('analysis.xml')\n",
    "root = tree.getroot()"
   ]
  },
  {
   "cell_type": "code",
   "execution_count": 2,
   "metadata": {},
   "outputs": [
    {
     "name": "stdout",
     "output_type": "stream",
     "text": [
      "Rose_breasted_Grosbeak\n",
      "{'bird_A': 'Rose_breasted_Grosbeak', 'bird_B': 'Red_legged_Kittiwake', 'localSimilarity': '0.3', 'steps': '2', 'structuralSimilarity': '0.02'}\n"
     ]
    }
   ],
   "source": [
    "for child in root:\n",
    "#     print(child.tag)\n",
    "    print(child.attrib['bird_A'])\n",
    "    print(child.attrib)\n",
    "    break"
   ]
  },
  {
   "cell_type": "code",
   "execution_count": 3,
   "metadata": {},
   "outputs": [],
   "source": [
    "candidate_labels = ['Ruby_throated_Hummingbird', 'Blue_Jay', 'Florida_Jay', 'Green_Jay', 'Dark_eyed_Junco']"
   ]
  },
  {
   "cell_type": "code",
   "execution_count": 4,
   "metadata": {},
   "outputs": [
    {
     "data": {
      "text/plain": [
       "[{'bird_A': 'Ruby_throated_Hummingbird',\n",
       "  'bird_B': 'Blue_Jay',\n",
       "  'localSimilarity': '0.26',\n",
       "  'steps': '6',\n",
       "  'structuralSimilarity': '0.06'},\n",
       " {'bird_A': 'Florida_Jay',\n",
       "  'bird_B': 'Ruby_throated_Hummingbird',\n",
       "  'localSimilarity': '0.19',\n",
       "  'steps': '7',\n",
       "  'structuralSimilarity': '0.03'},\n",
       " {'bird_A': 'Ruby_throated_Hummingbird',\n",
       "  'bird_B': 'Green_Jay',\n",
       "  'localSimilarity': '0.35',\n",
       "  'steps': '2',\n",
       "  'structuralSimilarity': '0.01'},\n",
       " {'bird_A': 'Ruby_throated_Hummingbird',\n",
       "  'bird_B': 'Dark_eyed_Junco',\n",
       "  'localSimilarity': '0.22',\n",
       "  'steps': '8',\n",
       "  'structuralSimilarity': '0.02'},\n",
       " {'bird_A': 'Florida_Jay',\n",
       "  'bird_B': 'Blue_Jay',\n",
       "  'localSimilarity': '0.69',\n",
       "  'steps': '2',\n",
       "  'structuralSimilarity': '0.11'},\n",
       " {'bird_A': 'Blue_Jay',\n",
       "  'bird_B': 'Green_Jay',\n",
       "  'localSimilarity': '0.3',\n",
       "  'steps': '4',\n",
       "  'structuralSimilarity': '0.03'},\n",
       " {'bird_A': 'Dark_eyed_Junco',\n",
       "  'bird_B': 'Blue_Jay',\n",
       "  'localSimilarity': '0.26',\n",
       "  'steps': '7',\n",
       "  'structuralSimilarity': '0.03'},\n",
       " {'bird_A': 'Florida_Jay',\n",
       "  'bird_B': 'Green_Jay',\n",
       "  'localSimilarity': '0.47',\n",
       "  'steps': '2',\n",
       "  'structuralSimilarity': '0.17'},\n",
       " {'bird_A': 'Florida_Jay',\n",
       "  'bird_B': 'Dark_eyed_Junco',\n",
       "  'localSimilarity': '0.27',\n",
       "  'steps': '7',\n",
       "  'structuralSimilarity': '0.04'},\n",
       " {'bird_A': 'Dark_eyed_Junco',\n",
       "  'bird_B': 'Green_Jay',\n",
       "  'localSimilarity': '0.36',\n",
       "  'steps': '5',\n",
       "  'structuralSimilarity': '0.1'}]"
      ]
     },
     "execution_count": 4,
     "metadata": {},
     "output_type": "execute_result"
    }
   ],
   "source": [
    "import itertools\n",
    "\n",
    "candidate_label_step_list = []\n",
    "for i in itertools.combinations(candidate_labels, 2):\n",
    "    for child in root:\n",
    "        if child.attrib['bird_A'] == i[0] and child.attrib['bird_B'] == i[1]:\n",
    "            candidate_label_step_list.append(child.attrib)\n",
    "        elif child.attrib['bird_A'] == i[1] and child.attrib['bird_B'] == i[0]:\n",
    "            candidate_label_step_list.append(child.attrib)\n",
    "\n",
    "candidate_label_step_list"
   ]
  },
  {
   "cell_type": "code",
   "execution_count": 18,
   "metadata": {},
   "outputs": [
    {
     "data": {
      "text/plain": [
       "50"
      ]
     },
     "execution_count": 18,
     "metadata": {},
     "output_type": "execute_result"
    }
   ],
   "source": [
    "# steps = 0\n",
    "# for i in candidate_label_step_list:\n",
    "#     steps += int(i['steps'])\n",
    "# steps"
   ]
  },
  {
   "cell_type": "code",
   "execution_count": null,
   "metadata": {},
   "outputs": [],
   "source": [
    "local_sim = 0\n",
    "for i in candidate_label_step_list:\n",
    "    local_sim += int(i['localSimilarity'])"
   ]
  },
  {
   "cell_type": "code",
   "execution_count": null,
   "metadata": {},
   "outputs": [],
   "source": []
  },
  {
   "cell_type": "code",
   "execution_count": null,
   "metadata": {},
   "outputs": [],
   "source": []
  }
 ],
 "metadata": {
  "kernelspec": {
   "display_name": "DeViSE_env",
   "language": "python",
   "name": "devise_env"
  },
  "language_info": {
   "codemirror_mode": {
    "name": "ipython",
    "version": 3
   },
   "file_extension": ".py",
   "mimetype": "text/x-python",
   "name": "python",
   "nbconvert_exporter": "python",
   "pygments_lexer": "ipython3",
   "version": "3.7.1"
  }
 },
 "nbformat": 4,
 "nbformat_minor": 4
}
